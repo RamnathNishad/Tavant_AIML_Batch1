{
  "nbformat": 4,
  "nbformat_minor": 0,
  "metadata": {
    "colab": {
      "provenance": []
    },
    "kernelspec": {
      "name": "python3",
      "display_name": "Python 3"
    },
    "language_info": {
      "name": "python"
    }
  },
  "cells": [
    {
      "cell_type": "code",
      "source": [
        "import sys"
      ],
      "metadata": {
        "id": "qA8orUv2poIb"
      },
      "execution_count": null,
      "outputs": []
    },
    {
      "cell_type": "code",
      "source": [
        "myname='Ramnath'\n",
        "a_num=12\n",
        "print(type(myname))\n",
        "print(type(a_num))\n",
        "a_num='hello'\n",
        "print(type(a_num))"
      ],
      "metadata": {
        "colab": {
          "base_uri": "https://localhost:8080/"
        },
        "id": "PRChAcztqPIN",
        "outputId": "cb77515b-1092-4e1e-9ac2-d23d408234e6"
      },
      "execution_count": null,
      "outputs": [
        {
          "output_type": "stream",
          "name": "stdout",
          "text": [
            "<class 'str'>\n",
            "<class 'int'>\n",
            "<class 'str'>\n"
          ]
        }
      ]
    },
    {
      "cell_type": "code",
      "source": [
        "n1=123\n",
        "print(n1)\n",
        "print(id(n1))\n",
        "# n2=200\n",
        "n2=n1\n",
        "print(n2)\n",
        "print(id(n2))\n"
      ],
      "metadata": {
        "colab": {
          "base_uri": "https://localhost:8080/"
        },
        "id": "HNuRVkbUqp2a",
        "outputId": "6ac2450d-fa0a-4360-aa2b-89283fbeb35b"
      },
      "execution_count": null,
      "outputs": [
        {
          "output_type": "stream",
          "name": "stdout",
          "text": [
            "123\n",
            "11645992\n",
            "123\n",
            "11645992\n"
          ]
        }
      ]
    },
    {
      "cell_type": "code",
      "source": [
        "n1='Raman'\n",
        "print('value of n1 is ',n1)"
      ],
      "metadata": {
        "colab": {
          "base_uri": "https://localhost:8080/"
        },
        "id": "QprZn-j4rQzy",
        "outputId": "9da058db-7cb8-4000-f203-2f071920b5cd"
      },
      "execution_count": null,
      "outputs": [
        {
          "output_type": "stream",
          "name": "stdout",
          "text": [
            "value of n1 is  Raman\n"
          ]
        }
      ]
    },
    {
      "cell_type": "code",
      "source": [
        "n1=input('enter a name:')\n",
        "print(n1)\n",
        "type(n1)"
      ],
      "metadata": {
        "colab": {
          "base_uri": "https://localhost:8080/"
        },
        "id": "aoNLAmIfsLH3",
        "outputId": "6f9ac104-ed50-407a-ab2d-35f17dd0b328"
      },
      "execution_count": null,
      "outputs": [
        {
          "output_type": "stream",
          "name": "stdout",
          "text": [
            "enter a name:John\n",
            "John\n"
          ]
        },
        {
          "output_type": "execute_result",
          "data": {
            "text/plain": [
              "str"
            ]
          },
          "metadata": {},
          "execution_count": 19
        }
      ]
    },
    {
      "cell_type": "code",
      "source": [
        "n1*10"
      ],
      "metadata": {
        "colab": {
          "base_uri": "https://localhost:8080/"
        },
        "id": "jhCP3-mpszyv",
        "outputId": "4178c2ed-774a-4636-f3f4-d2ebe0b75c60"
      },
      "execution_count": null,
      "outputs": [
        {
          "output_type": "execute_result",
          "data": {
            "text/plain": [
              "1000"
            ]
          },
          "metadata": {},
          "execution_count": 22
        }
      ]
    },
    {
      "cell_type": "code",
      "source": [
        "n1**2"
      ],
      "metadata": {
        "colab": {
          "base_uri": "https://localhost:8080/"
        },
        "id": "YCJMsHQhtBCE",
        "outputId": "a1dddf32-2733-40e3-b7f5-c6023b7b39a1"
      },
      "execution_count": null,
      "outputs": [
        {
          "output_type": "execute_result",
          "data": {
            "text/plain": [
              "10000"
            ]
          },
          "metadata": {},
          "execution_count": 23
        }
      ]
    },
    {
      "cell_type": "code",
      "source": [
        "n1**12"
      ],
      "metadata": {
        "colab": {
          "base_uri": "https://localhost:8080/"
        },
        "id": "D-B2I0NqtDjk",
        "outputId": "db792c29-21d6-4b6d-b500-93445e8ed4c6"
      },
      "execution_count": null,
      "outputs": [
        {
          "output_type": "execute_result",
          "data": {
            "text/plain": [
              "1000000000000000000000000"
            ]
          },
          "metadata": {},
          "execution_count": 24
        }
      ]
    },
    {
      "cell_type": "code",
      "source": [
        "n1**124"
      ],
      "metadata": {
        "colab": {
          "base_uri": "https://localhost:8080/"
        },
        "id": "HINubPn9tGQ-",
        "outputId": "60c82a3f-1000-4115-a743-be72c499e399"
      },
      "execution_count": null,
      "outputs": [
        {
          "output_type": "execute_result",
          "data": {
            "text/plain": [
              "100000000000000000000000000000000000000000000000000000000000000000000000000000000000000000000000000000000000000000000000000000000000000000000000000000000000000000000000000000000000000000000000000000000000000000000000000000000000000000000000000000000"
            ]
          },
          "metadata": {},
          "execution_count": 25
        }
      ]
    },
    {
      "cell_type": "code",
      "source": [
        "n1=12.14\n",
        "type(n1)"
      ],
      "metadata": {
        "colab": {
          "base_uri": "https://localhost:8080/"
        },
        "id": "954vzNdTtIxe",
        "outputId": "cebcdf59-2b33-4e40-ba52-46221cfb7dc4"
      },
      "execution_count": null,
      "outputs": [
        {
          "output_type": "execute_result",
          "data": {
            "text/plain": [
              "float"
            ]
          },
          "metadata": {},
          "execution_count": 26
        }
      ]
    },
    {
      "cell_type": "code",
      "source": [
        "n1=10\n",
        "print(n1/10)"
      ],
      "metadata": {
        "colab": {
          "base_uri": "https://localhost:8080/"
        },
        "id": "RydKu2IXtOZf",
        "outputId": "14f86e8c-80ab-42ec-f792-6d76321018db"
      },
      "execution_count": null,
      "outputs": [
        {
          "output_type": "stream",
          "name": "stdout",
          "text": [
            "1.0\n"
          ]
        }
      ]
    },
    {
      "cell_type": "code",
      "source": [
        "n1=13\n",
        "n1/2"
      ],
      "metadata": {
        "colab": {
          "base_uri": "https://localhost:8080/"
        },
        "id": "iMeLv3E2tUiP",
        "outputId": "a8b88edd-c0e5-4384-dcb4-e85e53cf031e"
      },
      "execution_count": null,
      "outputs": [
        {
          "output_type": "execute_result",
          "data": {
            "text/plain": [
              "6.5"
            ]
          },
          "metadata": {},
          "execution_count": 28
        }
      ]
    },
    {
      "cell_type": "code",
      "source": [
        "n1//2"
      ],
      "metadata": {
        "colab": {
          "base_uri": "https://localhost:8080/"
        },
        "id": "NTsrkvU5ta4U",
        "outputId": "6aa1fdd9-5c7b-43ad-e937-5305fa8eb78a"
      },
      "execution_count": null,
      "outputs": [
        {
          "output_type": "execute_result",
          "data": {
            "text/plain": [
              "6"
            ]
          },
          "metadata": {},
          "execution_count": 29
        }
      ]
    },
    {
      "cell_type": "code",
      "source": [
        "n1%2"
      ],
      "metadata": {
        "colab": {
          "base_uri": "https://localhost:8080/"
        },
        "id": "s_EkmSgitd1B",
        "outputId": "7aa86231-2084-4fac-dd1c-7468c4b5550a"
      },
      "execution_count": null,
      "outputs": [
        {
          "output_type": "execute_result",
          "data": {
            "text/plain": [
              "1"
            ]
          },
          "metadata": {},
          "execution_count": 30
        }
      ]
    },
    {
      "cell_type": "code",
      "source": [
        "n1=input('enter any number:')\n",
        "n1=int(n1)\n",
        "type(n1)"
      ],
      "metadata": {
        "colab": {
          "base_uri": "https://localhost:8080/"
        },
        "id": "0W_kjwXUttnj",
        "outputId": "ee655e37-2f51-4097-bc8a-0477a2659b70"
      },
      "execution_count": null,
      "outputs": [
        {
          "name": "stdout",
          "output_type": "stream",
          "text": [
            "enter any number:20\n"
          ]
        },
        {
          "output_type": "execute_result",
          "data": {
            "text/plain": [
              "int"
            ]
          },
          "metadata": {},
          "execution_count": 34
        }
      ]
    },
    {
      "cell_type": "code",
      "source": [
        "name='Ramnath'\n",
        "name2=\"Ramnath\"\n",
        "print(id(name))\n",
        "print(id(name2))"
      ],
      "metadata": {
        "colab": {
          "base_uri": "https://localhost:8080/"
        },
        "id": "PllZoI4Xt2_r",
        "outputId": "d72791ce-ac60-4f76-8acd-1baf2d845164"
      },
      "execution_count": null,
      "outputs": [
        {
          "output_type": "stream",
          "name": "stdout",
          "text": [
            "138932606590416\n",
            "138932606590416\n"
          ]
        }
      ]
    },
    {
      "cell_type": "code",
      "source": [
        "name3=\"Alfred D'Souza\"\n",
        "name3"
      ],
      "metadata": {
        "colab": {
          "base_uri": "https://localhost:8080/",
          "height": 36
        },
        "id": "oAHVb8kbuiLK",
        "outputId": "165de292-3c4e-4560-aef3-a795afa5abb3"
      },
      "execution_count": null,
      "outputs": [
        {
          "output_type": "execute_result",
          "data": {
            "text/plain": [
              "\"Alfred D'Souza\""
            ],
            "application/vnd.google.colaboratory.intrinsic+json": {
              "type": "string"
            }
          },
          "metadata": {},
          "execution_count": 36
        }
      ]
    },
    {
      "cell_type": "code",
      "source": [
        "name='ramnath'\n",
        "name.upper()\n",
        "name.isnumeric()\n",
        "name='100'\n",
        "name.isnumeric()"
      ],
      "metadata": {
        "colab": {
          "base_uri": "https://localhost:8080/"
        },
        "id": "IwW17cWcuy65",
        "outputId": "d9c02dbd-84b7-4e72-f863-7872bc9d873a"
      },
      "execution_count": null,
      "outputs": [
        {
          "output_type": "execute_result",
          "data": {
            "text/plain": [
              "True"
            ]
          },
          "metadata": {},
          "execution_count": 39
        }
      ]
    },
    {
      "cell_type": "code",
      "source": [
        "cities=\"bangalore,mysore,mumbai,delhi\"\n",
        "splitted=cities.split(',')\n",
        "print(splitted)\n",
        "joined=','.join(splitted)\n",
        "print(joined)\n"
      ],
      "metadata": {
        "colab": {
          "base_uri": "https://localhost:8080/"
        },
        "id": "aE70aSzYvAFP",
        "outputId": "ee1e1c44-cb8c-47bc-c3e8-645089a5d4c4"
      },
      "execution_count": null,
      "outputs": [
        {
          "output_type": "stream",
          "name": "stdout",
          "text": [
            "['bangalore', 'mysore', 'mumbai', 'delhi']\n",
            "bangalore,mysore,mumbai,delhi\n"
          ]
        }
      ]
    },
    {
      "cell_type": "code",
      "source": [
        "delimeter='#'\n",
        "delimeter.join(['bangalore', 'mysore', 'mumbai', 'delhi'])\n"
      ],
      "metadata": {
        "colab": {
          "base_uri": "https://localhost:8080/",
          "height": 36
        },
        "id": "Ap4WIipavd9f",
        "outputId": "14648731-cffe-466e-e51d-34d07e1e8113"
      },
      "execution_count": null,
      "outputs": [
        {
          "output_type": "execute_result",
          "data": {
            "text/plain": [
              "'bangalore#mysore#mumbai#delhi'"
            ],
            "application/vnd.google.colaboratory.intrinsic+json": {
              "type": "string"
            }
          },
          "metadata": {},
          "execution_count": 48
        }
      ]
    },
    {
      "cell_type": "markdown",
      "source": [
        "**Boolean Values: 'True' or 'False'**\n",
        "Note: true is not same as True in python. true will be treated as a variable not boolean value"
      ],
      "metadata": {
        "id": "0yIGHXoQyUFu"
      }
    },
    {
      "cell_type": "code",
      "source": [
        "print(True)"
      ],
      "metadata": {
        "colab": {
          "base_uri": "https://localhost:8080/"
        },
        "id": "5TKAARtDyJPY",
        "outputId": "0d2af98a-9aea-4c82-e336-ff2678c73ebf"
      },
      "execution_count": null,
      "outputs": [
        {
          "output_type": "stream",
          "name": "stdout",
          "text": [
            "True\n"
          ]
        }
      ]
    },
    {
      "cell_type": "code",
      "source": [
        "print(true)"
      ],
      "metadata": {
        "colab": {
          "base_uri": "https://localhost:8080/",
          "height": 141
        },
        "id": "BQQBDSyQysfG",
        "outputId": "8e081464-77e3-4ec1-caa6-9af6cc34f3d2"
      },
      "execution_count": null,
      "outputs": [
        {
          "output_type": "error",
          "ename": "NameError",
          "evalue": "name 'true' is not defined",
          "traceback": [
            "\u001b[0;31m---------------------------------------------------------------------------\u001b[0m",
            "\u001b[0;31mNameError\u001b[0m                                 Traceback (most recent call last)",
            "\u001b[0;32m/tmp/ipython-input-4153662535.py\u001b[0m in \u001b[0;36m<cell line: 0>\u001b[0;34m()\u001b[0m\n\u001b[0;32m----> 1\u001b[0;31m \u001b[0mprint\u001b[0m\u001b[0;34m(\u001b[0m\u001b[0mtrue\u001b[0m\u001b[0;34m)\u001b[0m\u001b[0;34m\u001b[0m\u001b[0;34m\u001b[0m\u001b[0m\n\u001b[0m",
            "\u001b[0;31mNameError\u001b[0m: name 'true' is not defined"
          ]
        }
      ]
    },
    {
      "cell_type": "markdown",
      "source": [],
      "metadata": {
        "id": "sFDy909uzpOg"
      }
    },
    {
      "cell_type": "markdown",
      "source": [
        "Arithmatic Operators : +,-,*,/,//,%\n",
        "Relational operators: <,<=,>,>=,==,!="
      ],
      "metadata": {
        "id": "HuuVBKf1y2ph"
      }
    },
    {
      "cell_type": "markdown",
      "source": [
        "**Logical operators:  and, or , not**"
      ],
      "metadata": {
        "id": "4zvg-r8SzOaM"
      }
    },
    {
      "cell_type": "code",
      "source": [],
      "metadata": {
        "id": "2RKMizgdyvE2"
      },
      "execution_count": null,
      "outputs": []
    },
    {
      "cell_type": "markdown",
      "source": [
        "## **Control flow statements**\n",
        "Note: after : , next line must have indention to make it as block"
      ],
      "metadata": {
        "id": "XQVAuszRzqeA"
      }
    },
    {
      "cell_type": "code",
      "source": [
        "num=int(input('Enter a number:'))\n",
        "if num>1000:\n",
        "  print('Hey, you hae eneterd a big number')\n",
        "  print('-'*50)\n",
        "print('done')"
      ],
      "metadata": {
        "colab": {
          "base_uri": "https://localhost:8080/"
        },
        "id": "xo3teHVqzu-L",
        "outputId": "54739b15-89cf-4454-f89a-7f696e69e967"
      },
      "execution_count": null,
      "outputs": [
        {
          "output_type": "stream",
          "name": "stdout",
          "text": [
            "Enter a number:500\n",
            "done\n"
          ]
        }
      ]
    },
    {
      "cell_type": "code",
      "source": [
        "num=int(input('Enter a number:'))\n",
        "if num % 2 ==0:\n",
        "  print('It is an even number')\n",
        "else:\n",
        "  print('It is an odd number')\n",
        "\n",
        "print('finished')"
      ],
      "metadata": {
        "colab": {
          "base_uri": "https://localhost:8080/"
        },
        "id": "0Nn0FlYg0Qmh",
        "outputId": "b33a3e8e-1aab-45b3-d829-d40cdd56fbbc"
      },
      "execution_count": null,
      "outputs": [
        {
          "output_type": "stream",
          "name": "stdout",
          "text": [
            "Enter a number:6\n",
            "It is an even number\n",
            "finished\n"
          ]
        }
      ]
    },
    {
      "cell_type": "code",
      "source": [
        "month=int(input('Enter a month(1-12):'))\n",
        "if month<1 or month>12:\n",
        "  print('You have eneterd an invalid number for a month')\n",
        "else:\n",
        "  if month==2:\n",
        "    print('There are either 28 or 29 days in this month')\n",
        "  elif month in (4,6,9,11):\n",
        "    print('There are 30 days in this month')\n",
        "  else:\n",
        "    print('There are 31 days in this month')\n",
        "\n",
        "\n"
      ],
      "metadata": {
        "colab": {
          "base_uri": "https://localhost:8080/"
        },
        "id": "CeqdzBG6083T",
        "outputId": "b8bcd67d-8762-4fcb-f83d-35ddab65ee1a"
      },
      "execution_count": null,
      "outputs": [
        {
          "output_type": "stream",
          "name": "stdout",
          "text": [
            "Enter a month(1-12):4\n",
            "There are 30 days in this month\n"
          ]
        }
      ]
    },
    {
      "cell_type": "code",
      "source": [
        "name=input('Enter a name:')\n",
        "age=int(input('Enter the age:'))\n",
        "person_type='minor' if age<18 else 'adult'\n",
        "print('%s is a %s' % (name,person_type ))"
      ],
      "metadata": {
        "colab": {
          "base_uri": "https://localhost:8080/"
        },
        "id": "-X91vLHf1-kY",
        "outputId": "3cd6f45f-3462-466f-a34c-c3d4d7a2f4d5"
      },
      "execution_count": null,
      "outputs": [
        {
          "output_type": "stream",
          "name": "stdout",
          "text": [
            "Enter a name:Ravi\n",
            "Enter the age:25\n",
            "Ravi is a adult\n"
          ]
        }
      ]
    },
    {
      "cell_type": "code",
      "source": [],
      "metadata": {
        "id": "OBX4qLvc2sVt"
      },
      "execution_count": null,
      "outputs": []
    },
    {
      "cell_type": "markdown",
      "source": [
        "### **Using while loop**"
      ],
      "metadata": {
        "id": "QPYr9lVK2yFD"
      }
    },
    {
      "cell_type": "code",
      "source": [
        "num=int(input('Enter a number:'))\n",
        "limit=int(input('Enter the limit:'))\n",
        "i=1\n",
        "while i<=limit:\n",
        "  print('{} X {} = {}'.format(num,i,num*i))\n",
        "  i+=1\n",
        "\n",
        "print('Done')"
      ],
      "metadata": {
        "colab": {
          "base_uri": "https://localhost:8080/"
        },
        "id": "i1_P4YSi23Bv",
        "outputId": "b275753a-86c0-4c9b-d4d6-81d0c8393967"
      },
      "execution_count": null,
      "outputs": [
        {
          "output_type": "stream",
          "name": "stdout",
          "text": [
            "Enter a number:5\n",
            "Enter the limit:10\n",
            "5 X 1 = 5\n",
            "5 X 2 = 10\n",
            "5 X 3 = 15\n",
            "5 X 4 = 20\n",
            "5 X 5 = 25\n",
            "5 X 6 = 30\n",
            "5 X 7 = 35\n",
            "5 X 8 = 40\n",
            "5 X 9 = 45\n",
            "5 X 10 = 50\n",
            "Done\n"
          ]
        }
      ]
    },
    {
      "cell_type": "code",
      "source": [
        "from re import I\n",
        "num=int(input('Enter a number:'))\n",
        "i=1\n",
        "f=1\n",
        "while i<=num:\n",
        "  f=f*i\n",
        "  i+=1\n",
        "\n",
        "print('Factorial of %d is %d' %(num,f))"
      ],
      "metadata": {
        "colab": {
          "base_uri": "https://localhost:8080/"
        },
        "id": "GRs0tSvq3dyC",
        "outputId": "86c7857e-69fd-4c1d-e88f-ae5af7249a0e"
      },
      "execution_count": null,
      "outputs": [
        {
          "output_type": "stream",
          "name": "stdout",
          "text": [
            "Enter a number:5\n",
            "Factorial of 5 is 120\n"
          ]
        }
      ]
    },
    {
      "cell_type": "code",
      "source": [],
      "metadata": {
        "id": "dX4e8wGV4Edq"
      },
      "execution_count": null,
      "outputs": []
    },
    {
      "cell_type": "markdown",
      "source": [
        "**For Loop**"
      ],
      "metadata": {
        "id": "nBQl_--v4NRQ"
      }
    },
    {
      "cell_type": "code",
      "source": [
        "for name in ('ram','shyam','john','jane'):\n",
        "  print(name)\n",
        "\n",
        "print()\n",
        "\n",
        "for num in (1,2,3,4,5,6,7,8,9,10):\n",
        "  print(num)\n",
        "\n",
        "print()\n",
        "\n",
        "for num in range(10):\n",
        "  print(num)   # will display 0 to 9, not 10\n",
        "\n",
        "print()\n",
        "\n",
        "for num in range(1,10):\n",
        "  print(num)   # will display 1 to 9, not 10\n",
        "\n",
        "print()\n",
        "for num in range(1,10,2):\n",
        "  print(num)   # will display 1,3,... to 9, skip by 1\n"
      ],
      "metadata": {
        "colab": {
          "base_uri": "https://localhost:8080/"
        },
        "id": "ADclDk4t4TIb",
        "outputId": "1442f23b-080a-44f5-a2ee-ffc41145986e"
      },
      "execution_count": null,
      "outputs": [
        {
          "output_type": "stream",
          "name": "stdout",
          "text": [
            "ram\n",
            "shyam\n",
            "john\n",
            "jane\n",
            "\n",
            "1\n",
            "2\n",
            "3\n",
            "4\n",
            "5\n",
            "6\n",
            "7\n",
            "8\n",
            "9\n",
            "10\n",
            "\n",
            "0\n",
            "1\n",
            "2\n",
            "3\n",
            "4\n",
            "5\n",
            "6\n",
            "7\n",
            "8\n",
            "9\n",
            "\n",
            "1\n",
            "2\n",
            "3\n",
            "4\n",
            "5\n",
            "6\n",
            "7\n",
            "8\n",
            "9\n",
            "\n",
            "1\n",
            "3\n",
            "5\n",
            "7\n",
            "9\n"
          ]
        }
      ]
    },
    {
      "cell_type": "code",
      "source": [],
      "metadata": {
        "id": "eICPE5l44qOK"
      },
      "execution_count": null,
      "outputs": []
    },
    {
      "cell_type": "markdown",
      "source": [
        "# **User-Defined Functions**"
      ],
      "metadata": {
        "id": "zDn4xOsH-BYP"
      }
    },
    {
      "cell_type": "code",
      "source": [
        "def is_leap(year):\n",
        "  return year%400 or (year%4 and year%100!=0)\n",
        "\n",
        "num=int(input('Enter an year:'))\n",
        "if is_leap(num):\n",
        "  print('There are 366 days in the input year')\n",
        "else:\n",
        "  print('There are 365 days in the input year')"
      ],
      "metadata": {
        "colab": {
          "base_uri": "https://localhost:8080/"
        },
        "id": "za_sxNRD-Fou",
        "outputId": "c2a44646-73f8-42ed-d1d5-bc4ed013c55f"
      },
      "execution_count": null,
      "outputs": [
        {
          "output_type": "stream",
          "name": "stdout",
          "text": [
            "Enter an year:2024\n",
            "There are 366 days in the input year\n"
          ]
        }
      ]
    },
    {
      "cell_type": "code",
      "source": [
        "def max_days_in_month(month,year):\n",
        "  if month<1 or month>12:\n",
        "    raise Exception('Invalid month; must be between 1 and 12')\n",
        "  if month==2:\n",
        "    return 29 if is_leap(year) else 28\n",
        "  elif month in (4,6,9,11):\n",
        "    return 30\n",
        "  else:\n",
        "    return 31\n",
        "\n",
        "def main():\n",
        "  m=int(input('Enter month:'))\n",
        "  y=int(input('Enter year:'))\n",
        "  days=max_days_in_month(m,y)\n",
        "  print('There are %d days in the month/year %d/%d' % (days,m,y))\n",
        "\n",
        "\n",
        "main()"
      ],
      "metadata": {
        "colab": {
          "base_uri": "https://localhost:8080/"
        },
        "id": "BgUXadi1-6z6",
        "outputId": "08eab749-f59d-4831-decd-feb98b61e4c3"
      },
      "execution_count": null,
      "outputs": [
        {
          "output_type": "stream",
          "name": "stdout",
          "text": [
            "Enter month:5\n",
            "Enter year:2025\n",
            "There are 31 days in the month/year 5/2025\n"
          ]
        }
      ]
    },
    {
      "cell_type": "code",
      "source": [],
      "metadata": {
        "id": "eKzeMnMnAhp7"
      },
      "execution_count": null,
      "outputs": []
    },
    {
      "cell_type": "markdown",
      "source": [
        "# **Parameters and return values in a function:**"
      ],
      "metadata": {
        "id": "4rbJRoHGA1Pu"
      }
    },
    {
      "cell_type": "code",
      "source": [
        "def greet(name='friend',city='Bangalore'):   # default values of the parameters\n",
        "  print('Hello %s, how is the weather in %s?' %(name,city))\n",
        "\n",
        "def main():\n",
        "  name=input('Enter your name:')\n",
        "  city=input('Where are you from?:')\n",
        "\n",
        "  message=greet(name,city)\n",
        "  print('message is',message)\n",
        "\n",
        "\n",
        "greet('Ramnath')\n",
        "greet()\n",
        "\n",
        "#main()\n"
      ],
      "metadata": {
        "colab": {
          "base_uri": "https://localhost:8080/"
        },
        "id": "DlEh7dpPA79T",
        "outputId": "caf0a819-40b3-46fb-e166-fd2673dc1655"
      },
      "execution_count": null,
      "outputs": [
        {
          "output_type": "stream",
          "name": "stdout",
          "text": [
            "Hello Ramnath, how is the weather in Bangalore?\n",
            "Hello friend, how is the weather in Bangalore?\n"
          ]
        }
      ]
    },
    {
      "cell_type": "code",
      "source": [
        "def factorial(n):\n",
        "  if n<=1: return 1\n",
        "  return n*factorial(n-1)\n",
        "\n",
        "num=5\n",
        "f=factorial(num)\n",
        "print('Factorial of %d is %d'%(num,f))"
      ],
      "metadata": {
        "colab": {
          "base_uri": "https://localhost:8080/"
        },
        "id": "jhIZwpygB00E",
        "outputId": "b0e1e929-5db4-482f-909d-854452d61cd0"
      },
      "execution_count": null,
      "outputs": [
        {
          "output_type": "stream",
          "name": "stdout",
          "text": [
            "Factorial of 5 is 120\n"
          ]
        }
      ]
    },
    {
      "cell_type": "code",
      "source": [],
      "metadata": {
        "id": "ye9qLDZeDHjA"
      },
      "execution_count": null,
      "outputs": []
    },
    {
      "cell_type": "markdown",
      "source": [
        "# **Collections in Python**\n",
        "**A colectionn is an object that contains multiple other objetcs. In Python there are 4 types of collections**\n",
        "\n",
        "-List\n",
        "\n",
        "-Tuple\n",
        "\n",
        "-Set\n",
        "\n",
        "-Dict\n"
      ],
      "metadata": {
        "id": "oNHGzkRZDWrt"
      }
    },
    {
      "cell_type": "code",
      "source": [],
      "metadata": {
        "id": "TdO0CCadDaqp"
      },
      "execution_count": null,
      "outputs": []
    },
    {
      "cell_type": "markdown",
      "source": [
        "# **1. List:**"
      ],
      "metadata": {
        "id": "DMd4XFHwD_8w"
      }
    },
    {
      "cell_type": "code",
      "source": [
        "l1=[]\n",
        "print(type(l1))\n",
        "\n",
        "l2=list()\n",
        "print(type(l2))\n",
        "\n",
        "l1=['ramnath','hema','yash','vaibhav']\n",
        "print(l1)\n",
        "\n",
        "l2=list(['ramnath', 'hema', 'yash', 'vaibhav'])\n",
        "print(type(l2))\n",
        "\n",
        "print(l1[0])\n",
        "print(l1[-1])\n"
      ],
      "metadata": {
        "colab": {
          "base_uri": "https://localhost:8080/"
        },
        "id": "Dt9B8MIOEDAu",
        "outputId": "0a7ca57c-2e15-4ead-d99d-7034f3d2107a"
      },
      "execution_count": null,
      "outputs": [
        {
          "output_type": "stream",
          "name": "stdout",
          "text": [
            "<class 'list'>\n",
            "<class 'list'>\n",
            "['ramnath', 'hema', 'yash', 'vaibhav']\n",
            "<class 'list'>\n",
            "ramnath\n",
            "vaibhav\n"
          ]
        }
      ]
    },
    {
      "cell_type": "code",
      "source": [
        "l2+=['john','dave']\n",
        "print(l2)"
      ],
      "metadata": {
        "colab": {
          "base_uri": "https://localhost:8080/"
        },
        "id": "Ips344bOESwK",
        "outputId": "fd6ddeff-7b6c-49c2-b0ce-c19f1233147d"
      },
      "execution_count": null,
      "outputs": [
        {
          "output_type": "stream",
          "name": "stdout",
          "text": [
            "['ramnath', 'hema', 'yash', 'vaibhav', 'john', 'dave']\n"
          ]
        }
      ]
    },
    {
      "cell_type": "code",
      "source": [
        "l2+='Iyan'\n",
        "print(l2)"
      ],
      "metadata": {
        "colab": {
          "base_uri": "https://localhost:8080/"
        },
        "id": "YD4rfS_SGF2X",
        "outputId": "f794a34d-1e22-44d2-86d1-e3c714e51b69"
      },
      "execution_count": null,
      "outputs": [
        {
          "output_type": "stream",
          "name": "stdout",
          "text": [
            "['ramnath', 'hema', 'yash', 'vaibhav', 'john', 'dave', 'r', 'o', 'b', 'e', 'r', 't', 'robert', 'I', 'y', 'a', 'n']\n"
          ]
        }
      ]
    },
    {
      "cell_type": "code",
      "source": [
        "l2=list(['ramnath', 'hema', 'yash', 'vaibhav'])\n",
        "# l2.append(['tom','myora'])\n",
        "# l2.extend(['rakesh','suresh'])\n",
        "print(l2)\n",
        "l2.insert(4,'abc')\n",
        "#print(l2.index(['tom','myora']))\n",
        "print(l2)\n",
        "l2.reverse()\n",
        "print(l2)\n",
        "l2.sort()\n",
        "print(l2)\n",
        "\n"
      ],
      "metadata": {
        "colab": {
          "base_uri": "https://localhost:8080/"
        },
        "id": "yc5aESd_G7Go",
        "outputId": "91ae9cc8-2292-4aa3-ef2f-2dfe0e32d1e7"
      },
      "execution_count": null,
      "outputs": [
        {
          "output_type": "stream",
          "name": "stdout",
          "text": [
            "['ramnath', 'hema', 'yash', 'vaibhav']\n",
            "['ramnath', 'hema', 'yash', 'vaibhav', 'abc']\n",
            "['abc', 'vaibhav', 'yash', 'hema', 'ramnath']\n",
            "['abc', 'hema', 'ramnath', 'vaibhav', 'yash']\n"
          ]
        }
      ]
    },
    {
      "cell_type": "code",
      "source": [
        "l2=list(['ramnath', 'hema', 'yash', 'vaibhav'])\n",
        "l3=l2.copy()  # shallow copy, it will create altogether another list\n",
        "\n",
        "l3+=['john']\n",
        "\n",
        "print(l2)\n",
        "print(l3)"
      ],
      "metadata": {
        "colab": {
          "base_uri": "https://localhost:8080/"
        },
        "id": "7g7Uqy5xHMOP",
        "outputId": "6024bbdf-93e6-4ce0-cc05-f66ae228e99d"
      },
      "execution_count": null,
      "outputs": [
        {
          "output_type": "stream",
          "name": "stdout",
          "text": [
            "['ramnath', 'hema', 'yash', 'vaibhav']\n",
            "['ramnath', 'hema', 'yash', 'vaibhav', 'john']\n"
          ]
        }
      ]
    },
    {
      "cell_type": "code",
      "source": [
        "l2=list(['ramnath', 'hema', 'yash', 'vaibhav','john'])\n",
        "for n in l2: print(n)"
      ],
      "metadata": {
        "colab": {
          "base_uri": "https://localhost:8080/"
        },
        "id": "2gby0Up3IAtF",
        "outputId": "97abc141-b39e-43b8-ec9b-473dccf080ae"
      },
      "execution_count": null,
      "outputs": [
        {
          "output_type": "stream",
          "name": "stdout",
          "text": [
            "ramnath\n",
            "hema\n",
            "yash\n",
            "vaibhav\n",
            "john\n"
          ]
        }
      ]
    },
    {
      "cell_type": "code",
      "source": [],
      "metadata": {
        "id": "744igS5_KGfj"
      },
      "execution_count": null,
      "outputs": []
    },
    {
      "cell_type": "markdown",
      "source": [
        "# **Slice**"
      ],
      "metadata": {
        "id": "5nz09AyfKI6m"
      }
    },
    {
      "cell_type": "code",
      "source": [
        "print(l2[1:])\n",
        "print(l2[:3])\n",
        "print(l2[0:4:2])\n",
        "print(l2[::2])\n",
        "print(l2[::])"
      ],
      "metadata": {
        "colab": {
          "base_uri": "https://localhost:8080/"
        },
        "id": "2gkUVchAKN6-",
        "outputId": "bdced901-fbe4-44ad-b054-25b8b4ba52c1"
      },
      "execution_count": null,
      "outputs": [
        {
          "output_type": "stream",
          "name": "stdout",
          "text": [
            "['hema', 'yash', 'vaibhav', 'john']\n",
            "['ramnath', 'hema', 'yash']\n",
            "['ramnath', 'yash']\n",
            "['ramnath', 'yash', 'john']\n",
            "['ramnath', 'hema', 'yash', 'vaibhav', 'john']\n"
          ]
        }
      ]
    },
    {
      "cell_type": "code",
      "source": [
        "l2[2]='rohit'\n",
        "print(l2)\n",
        "\n",
        "#l2[2:4]='jack'\n",
        "#print(l2)\n",
        "\n",
        "l2[2:]='vinay'\n",
        "print(l2)\n"
      ],
      "metadata": {
        "colab": {
          "base_uri": "https://localhost:8080/"
        },
        "id": "VqrGDPbRKcIY",
        "outputId": "79995d98-5a90-480c-b237-dafbce6d6c33"
      },
      "execution_count": null,
      "outputs": [
        {
          "output_type": "stream",
          "name": "stdout",
          "text": [
            "['ramnath', 'hema', 'rohit', 'vaibhav', 'john']\n",
            "['ramnath', 'hema', 'v', 'i', 'n', 'a', 'y']\n"
          ]
        }
      ]
    },
    {
      "cell_type": "code",
      "source": [],
      "metadata": {
        "id": "fitWPezdLvQU"
      },
      "execution_count": null,
      "outputs": []
    },
    {
      "cell_type": "markdown",
      "source": [
        "# **Tuple** : It is a read-only collection."
      ],
      "metadata": {
        "id": "PSv-6CIsMzRF"
      }
    },
    {
      "cell_type": "code",
      "source": [
        "names=('ramnath','rohit')\n",
        "print('before:',id(names))\n",
        "print(type(names))\n",
        "print(names[0])\n",
        "print(names[-1])\n",
        "# names[0]='David' --invalid\n",
        "\n",
        "names+=('john','tom')\n",
        "print(names)\n",
        "print('after:',id(names))\n"
      ],
      "metadata": {
        "colab": {
          "base_uri": "https://localhost:8080/"
        },
        "id": "1xfFShXuM81-",
        "outputId": "3f13407c-e2f5-48b2-e183-97c54177c8e7"
      },
      "execution_count": null,
      "outputs": [
        {
          "output_type": "stream",
          "name": "stdout",
          "text": [
            "before: 138932259283648\n",
            "<class 'tuple'>\n",
            "ramnath\n",
            "rohit\n",
            "('ramnath', 'rohit', 'john', 'tom')\n",
            "after: 138932262530688\n"
          ]
        }
      ]
    },
    {
      "cell_type": "code",
      "source": [
        "names=tuple(['ravi','rohit'])\n",
        "print(names)\n",
        "print(type(names))"
      ],
      "metadata": {
        "colab": {
          "base_uri": "https://localhost:8080/"
        },
        "id": "-Mwn_tcLOZi6",
        "outputId": "e85c2ce8-f8bd-467d-b460-bcbdb1dfa846"
      },
      "execution_count": null,
      "outputs": [
        {
          "output_type": "stream",
          "name": "stdout",
          "text": [
            "('ravi', 'rohit')\n",
            "<class 'tuple'>\n"
          ]
        }
      ]
    },
    {
      "cell_type": "code",
      "source": [
        "import numpy as np\n",
        "\n",
        "A = np.array([[1],\n",
        "              [2],\n",
        "              [3]])    # shape (3,1)\n",
        "\n",
        "B = np.array([10, 20, 30, 40])   # shape (4,)\n",
        "\n",
        "C = A + B\n",
        "print(C)"
      ],
      "metadata": {
        "id": "FFz6vWynOpYk",
        "colab": {
          "base_uri": "https://localhost:8080/"
        },
        "outputId": "63e691e1-7324-4782-cc1a-bcd3126d2658"
      },
      "execution_count": null,
      "outputs": [
        {
          "output_type": "stream",
          "name": "stdout",
          "text": [
            "[[11 21 31 41]\n",
            " [12 22 32 42]\n",
            " [13 23 33 43]]\n"
          ]
        }
      ]
    },
    {
      "cell_type": "code",
      "source": [],
      "metadata": {
        "id": "aWQcaArAkd1n"
      },
      "execution_count": null,
      "outputs": []
    },
    {
      "cell_type": "markdown",
      "source": [
        "## **Set** : A Set is a collection of unique values so without any repetition\n",
        "\n",
        "- we use {} to create a set but if we use empty {} then it will create 'dict' short form of dictionary."
      ],
      "metadata": {
        "id": "fnG1b86px3kC"
      }
    },
    {
      "cell_type": "code",
      "source": [
        "set1={} # creates dictionary if empty not Set\n",
        "print(type(set1))\n",
        "\n",
        "set2={10,20,30,40,50,40,30,50,90}\n",
        "print(type(set2))\n",
        "print(set2)\n",
        "\n",
        "names={'ramnath','yash','vaibhav','yash','rohit'}\n",
        "# print(names[0])   does not support index based access\n",
        "\n",
        "for n in names:   # access only using loop\n",
        "  print(n)\n",
        "\n",
        "# unlike tuple, the set is not immutable, we can add or delete the values and so on.\n",
        "\n",
        "dir(set2)\n"
      ],
      "metadata": {
        "colab": {
          "base_uri": "https://localhost:8080/"
        },
        "id": "GrwWXp4XyJmS",
        "outputId": "0eaf8e60-a419-4b01-a27a-89a7466d6b85"
      },
      "execution_count": null,
      "outputs": [
        {
          "output_type": "stream",
          "name": "stdout",
          "text": [
            "<class 'dict'>\n",
            "<class 'set'>\n",
            "{50, 20, 90, 40, 10, 30}\n",
            "rohit\n",
            "vaibhav\n",
            "ramnath\n",
            "yash\n"
          ]
        },
        {
          "output_type": "execute_result",
          "data": {
            "text/plain": [
              "['__and__',\n",
              " '__class__',\n",
              " '__class_getitem__',\n",
              " '__contains__',\n",
              " '__delattr__',\n",
              " '__dir__',\n",
              " '__doc__',\n",
              " '__eq__',\n",
              " '__format__',\n",
              " '__ge__',\n",
              " '__getattribute__',\n",
              " '__getstate__',\n",
              " '__gt__',\n",
              " '__hash__',\n",
              " '__iand__',\n",
              " '__init__',\n",
              " '__init_subclass__',\n",
              " '__ior__',\n",
              " '__isub__',\n",
              " '__iter__',\n",
              " '__ixor__',\n",
              " '__le__',\n",
              " '__len__',\n",
              " '__lt__',\n",
              " '__ne__',\n",
              " '__new__',\n",
              " '__or__',\n",
              " '__rand__',\n",
              " '__reduce__',\n",
              " '__reduce_ex__',\n",
              " '__repr__',\n",
              " '__ror__',\n",
              " '__rsub__',\n",
              " '__rxor__',\n",
              " '__setattr__',\n",
              " '__sizeof__',\n",
              " '__str__',\n",
              " '__sub__',\n",
              " '__subclasshook__',\n",
              " '__xor__',\n",
              " 'add',\n",
              " 'clear',\n",
              " 'copy',\n",
              " 'difference',\n",
              " 'difference_update',\n",
              " 'discard',\n",
              " 'intersection',\n",
              " 'intersection_update',\n",
              " 'isdisjoint',\n",
              " 'issubset',\n",
              " 'issuperset',\n",
              " 'pop',\n",
              " 'remove',\n",
              " 'symmetric_difference',\n",
              " 'symmetric_difference_update',\n",
              " 'union',\n",
              " 'update']"
            ]
          },
          "metadata": {},
          "execution_count": 23
        }
      ]
    },
    {
      "cell_type": "code",
      "source": [
        "set1={1,2,3,4}\n",
        "set2=set1.copy()\n",
        "\n",
        "print(id(set1))\n",
        "print(id(set2))\n"
      ],
      "metadata": {
        "colab": {
          "base_uri": "https://localhost:8080/"
        },
        "id": "5lnncOl3yukA",
        "outputId": "ef6788c3-30fe-4edd-ee91-15dcbaf811b8"
      },
      "execution_count": null,
      "outputs": [
        {
          "output_type": "stream",
          "name": "stdout",
          "text": [
            "136113597734848\n",
            "136113597738432\n"
          ]
        }
      ]
    },
    {
      "cell_type": "code",
      "source": [
        "# all the methods are given as per the set operatios\n",
        "n1={1,2,3,4,5}\n",
        "n2={4,5,6,7}\n",
        "print('n1:',n1)\n",
        "print('n2:',n2)\n",
        "print('n1.difference(n2):',n1.difference(n2))\n",
        "print('n1:',n1)\n",
        "print('n1-n2:',n1-n2)\n",
        "print('n2.difference(n1):',n2.difference(n1))\n",
        "print('n2-n1:',n2-n1)"
      ],
      "metadata": {
        "colab": {
          "base_uri": "https://localhost:8080/"
        },
        "id": "-llEghcB1TLZ",
        "outputId": "a6937114-3156-49a4-dca0-190382924de9"
      },
      "execution_count": null,
      "outputs": [
        {
          "output_type": "stream",
          "name": "stdout",
          "text": [
            "n1: {1, 2, 3, 4, 5}\n",
            "n2: {4, 5, 6, 7}\n",
            "n1.difference(n2): {1, 2, 3}\n",
            "n1: {1, 2, 3, 4, 5}\n",
            "n1-n2: {1, 2, 3}\n",
            "n2.difference(n1): {6, 7}\n",
            "n2-n1: {6, 7}\n"
          ]
        }
      ]
    },
    {
      "cell_type": "code",
      "source": [
        "n1={1,2,3,4,5}\n",
        "n2={4,5,6,7}\n",
        "print('n1:',n1)\n",
        "print('n2:',n2)\n",
        "n1.difference_update(n2)\n",
        "print('n1:',n1)"
      ],
      "metadata": {
        "colab": {
          "base_uri": "https://localhost:8080/"
        },
        "id": "UdRgnoqY2IiJ",
        "outputId": "4a7abcdd-8189-4b83-e6f9-a21d9da847e4"
      },
      "execution_count": null,
      "outputs": [
        {
          "output_type": "stream",
          "name": "stdout",
          "text": [
            "n1: {1, 2, 3, 4, 5}\n",
            "n2: {4, 5, 6, 7}\n",
            "n1: {1, 2, 3}\n"
          ]
        }
      ]
    },
    {
      "cell_type": "code",
      "source": [
        "n1={1,2,3,4,5}\n",
        "n2={4,5,6,7}\n",
        "print('n1:',n1)\n",
        "print('n2:',n2)\n",
        "\n",
        "print('union:',n1.union(n2))\n",
        "print('n1|n2:',n1|n2)"
      ],
      "metadata": {
        "colab": {
          "base_uri": "https://localhost:8080/"
        },
        "id": "3VfVw47K3CGI",
        "outputId": "d7a29d51-a75c-4ec5-8768-5b7c49d4cf5a"
      },
      "execution_count": null,
      "outputs": [
        {
          "output_type": "stream",
          "name": "stdout",
          "text": [
            "n1: {1, 2, 3, 4, 5}\n",
            "n2: {4, 5, 6, 7}\n",
            "union: {1, 2, 3, 4, 5, 6, 7}\n",
            "n1|n2: {1, 2, 3, 4, 5, 6, 7}\n"
          ]
        }
      ]
    },
    {
      "cell_type": "code",
      "source": [
        "n1={1,2,3,4,5}\n",
        "n2={4,5,6,7}\n",
        "print('n1:',n1)\n",
        "print('n2:',n2)\n",
        "print('n1.intersection(n2):',n1.intersection(n2))\n",
        "print('n1=n2:',n1&n2)\n",
        "print(n1)\n",
        "n1.intersection_update(n2)\n",
        "print(n1)\n",
        "print(len(n1))"
      ],
      "metadata": {
        "colab": {
          "base_uri": "https://localhost:8080/"
        },
        "id": "jXUUIscp4EI1",
        "outputId": "d0e287b8-1bfe-4aae-f14c-3bdbe136d440"
      },
      "execution_count": null,
      "outputs": [
        {
          "output_type": "stream",
          "name": "stdout",
          "text": [
            "n1: {1, 2, 3, 4, 5}\n",
            "n2: {4, 5, 6, 7}\n",
            "n1.intersection(n2): {4, 5}\n",
            "n1=n2: {4, 5}\n",
            "{1, 2, 3, 4, 5}\n",
            "{4, 5}\n",
            "2\n"
          ]
        }
      ]
    },
    {
      "cell_type": "code",
      "source": [],
      "metadata": {
        "id": "3mmFqA5d4bAj"
      },
      "execution_count": null,
      "outputs": []
    },
    {
      "cell_type": "markdown",
      "source": [
        "# **Dictionary:** : it stores and access value as key/value pairs"
      ],
      "metadata": {
        "id": "kJkq3fVM5HuG"
      }
    },
    {
      "cell_type": "code",
      "source": [
        "book={1001:\"Python Basics\",1002:\"Numpy Library\",1003:'Pandas'}\n",
        "print(book[1003])\n"
      ],
      "metadata": {
        "colab": {
          "base_uri": "https://localhost:8080/"
        },
        "id": "gpKk5nK55TeF",
        "outputId": "b1efe3ae-3f73-420c-bd3e-d218376b0ebf"
      },
      "execution_count": null,
      "outputs": [
        {
          "output_type": "stream",
          "name": "stdout",
          "text": [
            "Pandas\n"
          ]
        }
      ]
    },
    {
      "cell_type": "code",
      "source": [],
      "metadata": {
        "id": "gZR7UfdX5xoF"
      },
      "execution_count": null,
      "outputs": []
    }
  ]
}